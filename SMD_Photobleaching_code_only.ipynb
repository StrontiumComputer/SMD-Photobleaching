{
 "cells": [
  {
   "cell_type": "markdown",
   "metadata": {},
   "source": [
    "# Single Molecule Fluorescence Photobleaching Data Analyses—Step Finding Algorithm"
   ]
  },
  {
   "cell_type": "raw",
   "metadata": {},
   "source": [
    "!pip install -U numpy pandas ruptures matplotlib"
   ]
  },
  {
   "cell_type": "code",
   "execution_count": null,
   "metadata": {},
   "outputs": [],
   "source": [
    "pip install tqdm"
   ]
  },
  {
   "cell_type": "code",
   "execution_count": null,
   "metadata": {},
   "outputs": [],
   "source": [
    "import pickle\n",
    "import numpy as np\n",
    "import pandas as pd\n",
    "import ruptures as rpt\n",
    "from itertools import product\n",
    "from collections import Counter\n",
    "import matplotlib.pyplot as plt\n",
    "import os\n",
    "from tqdm import tqdm\n",
    "\n",
    "from matplotlib.backends.backend_pdf import PdfPages as pltPdf"
   ]
  },
  {
   "cell_type": "code",
   "execution_count": null,
   "metadata": {},
   "outputs": [],
   "source": [
    "os.getcwd()"
   ]
  },
  {
   "cell_type": "markdown",
   "metadata": {},
   "source": [
    "### Import Sample Data"
   ]
  },
  {
   "cell_type": "code",
   "execution_count": null,
   "metadata": {},
   "outputs": [],
   "source": [
    "fname = '~/path/to/data'\n",
    "signal = pd.read_csv(fname)\n",
    "signal.columns = ['ts', 'val']\n",
    "signal.head()"
   ]
  },
  {
   "cell_type": "code",
   "execution_count": null,
   "metadata": {},
   "outputs": [],
   "source": [
    "handle = fname.split(\"\\\\\")[-1]\n",
    "handle = handle.split(\".\")[0]\n",
    "handle"
   ]
  },
  {
   "cell_type": "markdown",
   "metadata": {
    "tags": []
   },
   "source": [
    "# fname = fname\n",
    "handle = fname.split(\".\")[0]\n",
    "signal = pd.read_csv(fname)\n",
    "signal.columns = ['ts', 'val']\n",
    "signal.head()"
   ]
  },
  {
   "cell_type": "code",
   "execution_count": null,
   "metadata": {},
   "outputs": [],
   "source": [
    "signal.tail()"
   ]
  },
  {
   "cell_type": "code",
   "execution_count": null,
   "metadata": {},
   "outputs": [],
   "source": [
    "# inspect input signal\n",
    "plt.rcParams[\"figure.figsize\"] = (20,4)\n",
    "plt.plot(signal.ts, signal.val, label='Signal')\n",
    "plt.title('Photon Intensity by Elapsed Time')\n",
    "plt.xlabel('Time (sec)')\n",
    "plt.ylabel('Intensity (unit/sec)')\n",
    "plt.margins(0)\n",
    "\n",
    "plt.savefig('{}_input_signal.svg'.format(handle), format='svg', dpi=1600)\n",
    "\n",
    "plt.show()\n",
    "plt.close()"
   ]
  },
  {
   "cell_type": "markdown",
   "metadata": {},
   "source": [
    "#### Observations\n",
    "\n",
    "A major inflection point is seen at about 10 secs. Changepoint detection leaving out the rest of the data makes sense."
   ]
  },
  {
   "cell_type": "markdown",
   "metadata": {},
   "source": [
    "## Select most frequent Changepoints from all the methods and models\n",
    "\n",
    "Using entire signal length"
   ]
  },
  {
   "cell_type": "code",
   "execution_count": null,
   "metadata": {},
   "outputs": [],
   "source": [
    "%%time\n",
    "\n",
    "plt.rcParams[\"figure.figsize\"] = (20,4)\n",
    "plt.ioff()  # interactive mode off, use plt.show() to force inline display of plots\n",
    "\n",
    "MAX_BREAKPOINTS = 15\n",
    "BREAKPOINTS = range(4, MAX_BREAKPOINTS+1)\n",
    "\n",
    "# input signal\n",
    "X = signal.val.values\n",
    "\n",
    "# container for experiment results\n",
    "res_ls = list()\n",
    "\n",
    "# container for all valid change points (for freq analysis)\n",
    "cps_ls = list()\n",
    "\n",
    "### WINDOW METHOD\n",
    "method = \"Window\"\n",
    "\n",
    "# training parameters\n",
    "MODELS = [\"rbf\", \"l1\",]\n",
    "WINDOW_SIZES = [8, 10, 12, 15, 18, 20, 22, 25]\n",
    "\n",
    "# container for multi-page pdf plot\n",
    "pdfFig = pltPdf(\"{}_cps_plots_{}.pdf\".format(handle, method))\n",
    "\n",
    "# train detector\n",
    "for (m, w, b) in tqdm(product(MODELS, WINDOW_SIZES, BREAKPOINTS)):\n",
    "    cps = rpt.Window(width=w, min_size=2, jump=1).fit_predict(X, n_bkps=b)\n",
    "    # store changepoints\n",
    "    cps_ls.extend(cps[:-1])\n",
    "    # plot changepoints\n",
    "    fig, ax = rpt.display(X, cps)\n",
    "    fig.suptitle(\"Method: {}, Model: {}, BreakPoints: {}\".format(method, m, b))\n",
    "    pdfFig.savefig(fig)\n",
    "    plt.close(fig)\n",
    "\n",
    "pdfFig.close()\n",
    "\n",
    "### PELT METHOD\n",
    "method = \"Pelt\"\n",
    "\n",
    "# training parameters\n",
    "MODELS = [\"rbf\", ]\n",
    "PENALTIES = np.linspace(0.25, 2.5, 20)\n",
    "\n",
    "# container for multi-page pdf plot\n",
    "pdfFig = pltPdf(\"{}_cps_plots_{}.pdf\".format(handle, method))\n",
    "\n",
    "# train detector\n",
    "for (m, p) in tqdm(product(MODELS, PENALTIES)):\n",
    "    cps = rpt.Pelt(model=m, min_size=2, jump=1).fit_predict(X, pen=p)\n",
    "    # store changepoints\n",
    "    cps_ls.extend(cps[:-1])\n",
    "    # plot changepoints\n",
    "    fig, ax = rpt.display(X, cps)\n",
    "    fig.suptitle(\"Method: {}, Model: {}, Penalty: {}\".format(method, m, p))\n",
    "    pdfFig.savefig(fig)\n",
    "    plt.close(fig)\n",
    "\n",
    "pdfFig.close()\n",
    "\n",
    "### OTHER METHODS\n",
    "METHODS = [\"Binseg\", \"BottomUp\", \"Dynp\"]\n",
    "\n",
    "# training parameters\n",
    "MODELS = [\"rbf\", \"l1\"]\n",
    "\n",
    "for method in tqdm(METHODS):\n",
    "    # container for multi-page pdf plot\n",
    "    pdfFig = pltPdf(\"{}_cps_plots_{}.pdf\".format(handle, method))\n",
    "    \n",
    "    # train detector\n",
    "    for (m, b) in product(MODELS, BREAKPOINTS):\n",
    "        if method == \"Binseg\":\n",
    "            cps = rpt.Binseg(model=m, min_size=2, jump=1).fit_predict(X, n_bkps=b)\n",
    "        if method == \"BottomUp\":\n",
    "            cps = rpt.BottomUp(model=m, min_size=2, jump=1).fit_predict(X, n_bkps=b)\n",
    "        if method == \"Dynp\":\n",
    "            cps = rpt.Dynp(model=m, min_size=2, jump=1).fit_predict(X, n_bkps=b)            \n",
    "        # store changepoints\n",
    "        cps_ls.extend(cps[:-1])            \n",
    "        # plot changepoints\n",
    "        fig, ax = rpt.display(X, cps)\n",
    "        fig.suptitle(\"Method: {}, Model: {}, BreakPoints: {}\".format(method, m, b))\n",
    "        pdfFig.savefig(fig)\n",
    "        plt.close(fig)\n",
    "    pdfFig.close()\n",
    "    \n",
    "cps_fq = Counter(cps_ls)  # produces dict ordered by counts of cp occurances\n",
    "\n",
    "\"\"\"\n",
    "# archive changepoints, and their count by occurance\n",
    "with open(\"cps_list.pkl\", \"wb\") as f:\n",
    "    pickle.dump(cps, f)\n",
    "with open(\"cps_freq.pkl\", \"wb\") as f:\n",
    "    pickle.dump(cps_fq, f)\n",
    "\"\"\""
   ]
  },
  {
   "cell_type": "code",
   "execution_count": null,
   "metadata": {},
   "outputs": [],
   "source": [
    "print(cps_fq)"
   ]
  },
  {
   "cell_type": "code",
   "execution_count": null,
   "metadata": {},
   "outputs": [],
   "source": [
    "MAX_BREAKPOINTS = 15\n",
    "top_n = dict(cps_fq.most_common(MAX_BREAKPOINTS))\n",
    "top_n = sorted(list(top_n.keys())) + [len(signal.ts)]\n",
    "scale = max(cps_fq.values())\n",
    "top_n, scale"
   ]
  },
  {
   "cell_type": "code",
   "execution_count": null,
   "metadata": {},
   "outputs": [],
   "source": [
    "%%time\n",
    "\n",
    "top_n = dict(cps_fq.most_common(MAX_BREAKPOINTS))\n",
    "\n",
    "top_n = sorted(list(top_n.keys())) + [len(signal.ts)-2]\n",
    "\n",
    "scale = max(cps_fq.values())\n",
    "\n",
    "results_ls = list()\n",
    "\n",
    "prev = 0\n",
    "\n",
    "for ix in top_n:\n",
    "    results_ls.append([ix, signal.ts[ix],\n",
    "                       signal.val[ix-1], signal.val[ix], signal.val[ix+1], \n",
    "                       cps_fq[ix]/scale, np.mean(signal.val[prev:ix])])\n",
    "    prev = ix\n",
    "\n",
    "results_df = pd.DataFrame(results_ls, columns=[\"Id\", \"Timestamp\", \"Prev Signal Value\",\n",
    "                                               \"Changepoint Value\", \"Next Signal Value\",\n",
    "                                               \"Changepoint Significance\", \"Average Signal Over Window\"\n",
    "                                              ])\n",
    "results_df"
   ]
  },
  {
   "cell_type": "code",
   "execution_count": null,
   "metadata": {},
   "outputs": [],
   "source": [
    "results_df.to_csv(\"{}_final_changepoints.csv\".format(handle))"
   ]
  },
  {
   "cell_type": "markdown",
   "metadata": {},
   "source": [
    "### Plot Changepoints"
   ]
  },
  {
   "cell_type": "code",
   "execution_count": null,
   "metadata": {},
   "outputs": [],
   "source": [
    "%%time\n",
    "\n",
    "pdfFig = pltPdf(\"{}_final_signal_with_cps_plots.pdf\".format(handle))\n",
    "\n",
    "for n in BREAKPOINTS:\n",
    "    # select top N changepoints from the ordered Dict\n",
    "    top_n = dict(cps_fq.most_common(n))\n",
    "    print(n, top_n)\n",
    "    \n",
    "    # plot parameters\n",
    "    plt.rcParams[\"figure.figsize\"] = (30, 4)\n",
    "    plt.title('Significant {} Change-Points: Photon Intensity by Elapsed Time'.format(n))\n",
    "    plt.xlabel('Time (sec)')\n",
    "    plt.ylabel('Intensity (unit/sec)')\n",
    "    plt.margins(0)\n",
    "\n",
    "    # plot the original signal\n",
    "    plt.plot(signal.ts, signal.val, label='Signal')\n",
    "    \n",
    "    # overlay averaged signal values\n",
    "    overlay = list()\n",
    "    prev = 0\n",
    "    for ix in sorted(list(top_n.keys())):\n",
    "        plt.axvline(x=signal.ts[ix], color='g')  # plot changepoints\n",
    "        overlay.extend([np.mean(signal.val[prev:ix])]*(ix-prev))\n",
    "        prev = ix\n",
    "    overlay.extend([np.mean(signal.val[ix:])]*(len(signal.val)-ix))\n",
    "    \n",
    "    # plot overlay values\n",
    "    plt.plot(signal.ts, overlay, color='k', label='Averaged Signal')\n",
    "\n",
    "    # save plot\n",
    "    #plt.savefig('signal_with_{}_cps.svg'.format(n), format='svg', dpi=1600)\n",
    "    \n",
    "    pdfFig.savefig()\n",
    "    plt.close()\n",
    "\n",
    "pdfFig.close()"
   ]
  },
  {
   "cell_type": "markdown",
   "metadata": {},
   "source": [
    "### PROCESSING COMPLETE"
   ]
  },
  {
   "cell_type": "code",
   "execution_count": null,
   "metadata": {},
   "outputs": [],
   "source": [
    "pip install ruptures"
   ]
  },
  {
   "cell_type": "code",
   "execution_count": null,
   "metadata": {},
   "outputs": [],
   "source": [
    "cps_fq.most_common(1)"
   ]
  },
  {
   "cell_type": "code",
   "execution_count": null,
   "metadata": {},
   "outputs": [],
   "source": [
    "results_df"
   ]
  },
  {
   "cell_type": "code",
   "execution_count": null,
   "metadata": {},
   "outputs": [],
   "source": [
    "excelOut = results_df[[\"Timestamp\", \"Changepoint Value\"]]\n",
    "excelOut\n",
    "excelOut.to_csv(\"timeStampAndChangePointData.csv\")\n"
   ]
  },
  {
   "cell_type": "code",
   "execution_count": null,
   "metadata": {},
   "outputs": [],
   "source": [
    "import seaborn as sns\n",
    "\n",
    "x=excelOut[[\"Timestamp\"]]\n",
    "y=excelOut[[\"Changepoint Value\"]]\n",
    "sns.lineplot(data = excelOut, x = \"Timestamp\", y = \"Changepoint Value\")"
   ]
  },
  {
   "cell_type": "code",
   "execution_count": null,
   "metadata": {},
   "outputs": [],
   "source": [
    "pip install seaborn"
   ]
  },
  {
   "cell_type": "code",
   "execution_count": null,
   "metadata": {},
   "outputs": [],
   "source": [
    "signal.ts"
   ]
  },
  {
   "cell_type": "code",
   "execution_count": null,
   "metadata": {
    "jupyter": {
     "outputs_hidden": true
    },
    "tags": []
   },
   "outputs": [],
   "source": [
    "overlay"
   ]
  },
  {
   "cell_type": "code",
   "execution_count": null,
   "metadata": {},
   "outputs": [],
   "source": [
    "plt.plot(signal.ts, overlay)"
   ]
  },
  {
   "cell_type": "code",
   "execution_count": null,
   "metadata": {},
   "outputs": [],
   "source": [
    "excelSpread = pd.DataFrame({'signal':signal.ts, 'overlay':overlay})\n"
   ]
  },
  {
   "cell_type": "code",
   "execution_count": null,
   "metadata": {},
   "outputs": [],
   "source": [
    "excelSpread.to_csv(\"smoothData.csv\")\n"
   ]
  },
  {
   "cell_type": "code",
   "execution_count": null,
   "metadata": {},
   "outputs": [],
   "source": []
  },
  {
   "cell_type": "code",
   "execution_count": null,
   "metadata": {},
   "outputs": [],
   "source": []
  }
 ],
 "metadata": {
  "kernelspec": {
   "display_name": "Python 3 (ipykernel)",
   "language": "python",
   "name": "python3"
  },
  "language_info": {
   "codemirror_mode": {
    "name": "ipython",
    "version": 3
   },
   "file_extension": ".py",
   "mimetype": "text/x-python",
   "name": "python",
   "nbconvert_exporter": "python",
   "pygments_lexer": "ipython3",
   "version": "3.9.12"
  }
 },
 "nbformat": 4,
 "nbformat_minor": 4
}
